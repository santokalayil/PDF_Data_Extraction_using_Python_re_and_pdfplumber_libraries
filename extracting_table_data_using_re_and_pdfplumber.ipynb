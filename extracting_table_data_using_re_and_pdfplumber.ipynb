{
 "cells": [
  {
   "cell_type": "code",
   "execution_count": 5,
   "metadata": {},
   "outputs": [],
   "source": [
    "# !sudo apt-get install ocrmypdf -q  # directly it iwll install python module also\n",
    "# !pip3 install pdfplumber -q"
   ]
  },
  {
   "cell_type": "code",
   "execution_count": 2,
   "metadata": {},
   "outputs": [],
   "source": [
    "import os\n",
    "import ocrmypdf # it is needed only if we need to ocr image only pdf is there.\n",
    "import pdfplumber"
   ]
  },
  {
   "cell_type": "code",
   "execution_count": 5,
   "metadata": {},
   "outputs": [],
   "source": [
    "pdf_url = \"Carmelaram - Result II Semester 2020-'21.pdf\""
   ]
  },
  {
   "cell_type": "code",
   "execution_count": 12,
   "metadata": {},
   "outputs": [
    {
     "name": "stdout",
     "output_type": "stream",
     "text": [
      "[<Page:1>] <Page:1>\n",
      "====================================================================================================\n",
      "Commission for Faith Formation\n",
      " \n",
      " Diocese of St. Ephrem, Khadki-Pune \n",
      " \n",
      "98842 71485; catechesis.exarchate@gmail.com \n",
      "                          ww w.exarc hate.onli ne                                                \n",
      "                                18 June 2020 \n",
      "_______________________________________________________________________________________________ \n",
      " \n",
      "II SEMESTER RESULT 2020-‘21 \n",
      "CARMELARAM \n",
      " \n",
      " \n",
      "Parish  Name  Class  Marks \n",
      "Carmelaram  Evaan Johnson  4  42 \n",
      "Carmelaram  Kevin S Shajy  4  50 \n",
      "Carmelaram  Anna Rose Johnson  5  44 \n",
      "Carmelaram  Albert M Mathew  6  46 \n",
      "Carmelaram  Neil S Thomas  6  47 \n",
      "Carmelaram  Rency K Rubin  6  40 \n",
      "Carmelaram  Jerin Jose  7  46 \n",
      "Carmelaram  Alina Merin Jose  9  39 \n",
      "Carmelaram  Alan Isaac Saji  11  44 \n",
      "Carmelaram  Merin Jose  11  44 \n",
      "Carmelaram  Nohal Chackson  11  40 \n",
      "Carmelaram  Toby M Mathew  11  41 \n",
      " \n",
      " \n",
      " \n",
      " \n",
      " \n",
      " \n",
      "                            \n",
      "Fr. Philip Pulipra                  Preethy Daniel \n",
      "Director                    Secretary \n",
      " \n",
      "                Grow in Christ; Rooted in the Word and Guided by the Spirit \n"
     ]
    }
   ],
   "source": [
    "with pdfplumber.open(pdf_url) as pdf:\n",
    "    pages = pdf.pages\n",
    "    print(pages, pages[0]); print(100*\"=\")\n",
    "    page = pages[0] # we can use for loop but here only one page \n",
    "    text = page.extract_text()\n",
    "    print(text)"
   ]
  },
  {
   "cell_type": "code",
   "execution_count": 15,
   "metadata": {},
   "outputs": [],
   "source": []
  },
  {
   "cell_type": "code",
   "execution_count": 24,
   "metadata": {},
   "outputs": [
    {
     "name": "stdout",
     "output_type": "stream",
     "text": [
      "/bin/bash: -c: line 0: unexpected EOF while looking for matching `\"'\r\n",
      "/bin/bash: -c: line 1: syntax error: unexpected end of file\r\n"
     ]
    }
   ],
   "source": [
    "# alternate way to ocr if it is image.. it is not at all an image\n",
    "os.system(f\"ocrmypdf {pdf_url} output.pdf\") # output nonzero - 502 \n",
    "# so trying in direct terminal using !\n",
    "!ocrmypdf \"Carmelaram - Result II Semester 2020-'21.pdf\" output.pdf\"\n",
    "# not working..."
   ]
  },
  {
   "cell_type": "code",
   "execution_count": 23,
   "metadata": {},
   "outputs": [],
   "source": [
    "import re"
   ]
  },
  {
   "cell_type": "code",
   "execution_count": 35,
   "metadata": {},
   "outputs": [],
   "source": [
    "pattern = re.compile(\".*RESULT \\d{4}-.\\d{2}\")\n",
    "for match in pattern.finditer(text):\n",
    "    print(match.group(0))"
   ]
  },
  {
   "cell_type": "code",
   "execution_count": 41,
   "metadata": {},
   "outputs": [
    {
     "name": "stdout",
     "output_type": "stream",
     "text": [
      "II SEMESTER RESULT 2020-‘21\n"
     ]
    }
   ],
   "source": [
    "exam_name = pattern.search(text).group(0)\n",
    "print(exam_name)"
   ]
  },
  {
   "cell_type": "code",
   "execution_count": 43,
   "metadata": {},
   "outputs": [
    {
     "name": "stdout",
     "output_type": "stream",
     "text": [
      "CARMELARAM\n"
     ]
    }
   ],
   "source": [
    "pattern = re.compile(\"CARMELARAM\")\n",
    "for match in pattern.finditer(text):\n",
    "    print(match.group(0))\n",
    "parish = \"CARMELARAM\"\n",
    "if pattern.search(text):\n",
    "    parish = pattern.search(text).group(0)\n",
    "else:\n",
    "    raise Exception(\"This is not belonging to our parish Carmelaram\")\n",
    "    sys.exit(1) # if in loop instead of this use break"
   ]
  },
  {
   "cell_type": "code",
   "execution_count": 47,
   "metadata": {},
   "outputs": [
    {
     "data": {
      "text/plain": [
       "'Commission for Faith Formation\\n \\n Diocese of St. Ephrem, Khadki-Pune \\n \\n\\uf020\\uf020\\uf020\\uf02898842 71485; \\uf02acatechesis.exarchate@gmail.com \\n                          ww w.exarc hate.onli ne                                                \\n                                18 June 2020 \\n_______________________________________________________________________________________________ \\n \\nII SEMESTER RESULT 2020-‘21 \\nCARMELARAM \\n \\n \\nParish  Name  Class  Marks \\nCarmelaram  Evaan Johnson  4  42 \\nCarmelaram  Kevin S Shajy  4  50 \\nCarmelaram  Anna Rose Johnson  5  44 \\nCarmelaram  Albert M Mathew  6  46 \\nCarmelaram  Neil S Thomas  6  47 \\nCarmelaram  Rency K Rubin  6  40 \\nCarmelaram  Jerin Jose  7  46 \\nCarmelaram  Alina Merin Jose  9  39 \\nCarmelaram  Alan Isaac Saji  11  44 \\nCarmelaram  Merin Jose  11  44 \\nCarmelaram  Nohal Chackson  11  40 \\nCarmelaram  Toby M Mathew  11  41 \\n \\n \\n \\n \\n \\n \\n                            \\nFr. Philip Pulipra                  Preethy Daniel \\nDirector                    Secretary \\n \\n                Grow in Christ; Rooted in the Word and Guided by the Spirit '"
      ]
     },
     "execution_count": 47,
     "metadata": {},
     "output_type": "execute_result"
    }
   ],
   "source": [
    "text"
   ]
  },
  {
   "cell_type": "code",
   "execution_count": 22,
   "metadata": {},
   "outputs": [
    {
     "name": "stdout",
     "output_type": "stream",
     "text": [
      "Commission for Faith Formation\n",
      " \n",
      " Diocese of St. Ephrem, Khadki-Pune \n",
      " \n",
      "98842 71485; catechesis.exarchate@gmail.com \n",
      "                          ww w.exarc hate.onli ne                                                \n",
      "                                18 June 2020 \n",
      "_______________________________________________________________________________________________ \n",
      " \n",
      "II SEMESTER RESULT 2020-‘21 \n",
      "CARMELARAM \n",
      " \n",
      " \n",
      "Parish  Name  Class  Marks \n",
      "Carmelaram  Evaan Johnson  4  42 \n",
      "Carmelaram  Kevin S Shajy  4  50 \n",
      "Carmelaram  Anna Rose Johnson  5  44 \n",
      "Carmelaram  Albert M Mathew  6  46 \n",
      "Carmelaram  Neil S Thomas  6  47 \n",
      "Carmelaram  Rency K Rubin  6  40 \n",
      "Carmelaram  Jerin Jose  7  46 \n",
      "Carmelaram  Alina Merin Jose  9  39 \n",
      "Carmelaram  Alan Isaac Saji  11  44 \n",
      "Carmelaram  Merin Jose  11  44 \n",
      "Carmelaram  Nohal Chackson  11  40 \n",
      "Carmelaram  Toby M Mathew  11  41 \n",
      " \n",
      " \n",
      " \n",
      " \n",
      " \n",
      " \n",
      "                            \n",
      "Fr. Philip Pulipra                  Preethy Daniel \n",
      "Director                    Secretary \n",
      " \n",
      "                Grow in Christ; Rooted in the Word and Guided by the Spirit \n"
     ]
    }
   ],
   "source": [
    "print(text)"
   ]
  },
  {
   "cell_type": "code",
   "execution_count": 143,
   "metadata": {},
   "outputs": [
    {
     "name": "stdout",
     "output_type": "stream",
     "text": [
      "match found - <re.Match object; span=(0, 32), match='Carmelaram  Evaan Johnson  4  42'>\n",
      "match found - <re.Match object; span=(0, 32), match='Carmelaram  Kevin S Shajy  4  50'>\n",
      "match found - <re.Match object; span=(0, 36), match='Carmelaram  Anna Rose Johnson  5  44'>\n",
      "match found - <re.Match object; span=(0, 34), match='Carmelaram  Albert M Mathew  6  46'>\n",
      "match found - <re.Match object; span=(0, 32), match='Carmelaram  Neil S Thomas  6  47'>\n",
      "match found - <re.Match object; span=(0, 32), match='Carmelaram  Rency K Rubin  6  40'>\n",
      "match found - <re.Match object; span=(0, 29), match='Carmelaram  Jerin Jose  7  46'>\n",
      "match found - <re.Match object; span=(0, 35), match='Carmelaram  Alina Merin Jose  9  39'>\n",
      "match found - <re.Match object; span=(0, 35), match='Carmelaram  Alan Isaac Saji  11  44'>\n",
      "match found - <re.Match object; span=(0, 30), match='Carmelaram  Merin Jose  11  44'>\n",
      "match found - <re.Match object; span=(0, 34), match='Carmelaram  Nohal Chackson  11  40'>\n",
      "match found - <re.Match object; span=(0, 33), match='Carmelaram  Toby M Mathew  11  41'>\n"
     ]
    }
   ],
   "source": [
    "result_list = []  # initializing  results list to add record dictionary to the this list\n",
    "pattern = re.compile(r\"([A-Za-z]+)\\s*([A-Z][A-Za-z ]*)\\s*(\\d{1,2})\\s*(\\d{1,2})\")\n",
    "start_pattern = re.compile(r\"Parish\\s*Name\\s*Class\\s*Marks\")\n",
    "# .*\\s*.*\\s*\\d{1,2}\\s*\\d{1,2}\n",
    "started = False\n",
    "for line in text.split('\\n'):\n",
    "    if started:  # checking if line with data found and started data grab loop started\n",
    "        for match in pattern.finditer(line): # matching\n",
    "            #print(match.group(0))\n",
    "            if match:\n",
    "                print(f'match found - {match}')\n",
    "                record = {} # initializing dictionary of each record\n",
    "                parish_name, name, std, marks = match.groups()\n",
    "                parish_name, name, std, marks = parish_name.strip(), name.strip(), std.strip(), marks.strip()\n",
    "                # print(\"{}-{}-{}-{}\".format(parish_name, name, std, marks))\n",
    "                record['Parish'], record['Name'], record['Class'], record['Marks'] = parish_name, name, std, marks\n",
    "                result_list.append(record)  # adding to the list each record dictionary\n",
    "            else: # this section is actually optional\n",
    "                break  # once data-grab-loop started and after-a-while nothing is found in pattern matching\n",
    "                # it means that table section is over therefore, breaking the loop\n",
    "    elif start_pattern.search(line): # if start pattern found, starting data grab loop, then\n",
    "        started = True  #  setting started as True and continuing loop without anything else\n",
    "        continue\n",
    "    else:\n",
    "        continue # since nothing of interest, normal loop is continue without doing anything"
   ]
  },
  {
   "cell_type": "code",
   "execution_count": 144,
   "metadata": {},
   "outputs": [
    {
     "data": {
      "text/plain": [
       "[{'Parish': 'Carmelaram',\n",
       "  'Name': 'Evaan Johnson',\n",
       "  'Class': '4',\n",
       "  'Marks': '42'},\n",
       " {'Parish': 'Carmelaram',\n",
       "  'Name': 'Kevin S Shajy',\n",
       "  'Class': '4',\n",
       "  'Marks': '50'},\n",
       " {'Parish': 'Carmelaram',\n",
       "  'Name': 'Anna Rose Johnson',\n",
       "  'Class': '5',\n",
       "  'Marks': '44'},\n",
       " {'Parish': 'Carmelaram',\n",
       "  'Name': 'Albert M Mathew',\n",
       "  'Class': '6',\n",
       "  'Marks': '46'},\n",
       " {'Parish': 'Carmelaram',\n",
       "  'Name': 'Neil S Thomas',\n",
       "  'Class': '6',\n",
       "  'Marks': '47'},\n",
       " {'Parish': 'Carmelaram',\n",
       "  'Name': 'Rency K Rubin',\n",
       "  'Class': '6',\n",
       "  'Marks': '40'},\n",
       " {'Parish': 'Carmelaram', 'Name': 'Jerin Jose', 'Class': '7', 'Marks': '46'},\n",
       " {'Parish': 'Carmelaram',\n",
       "  'Name': 'Alina Merin Jose',\n",
       "  'Class': '9',\n",
       "  'Marks': '39'},\n",
       " {'Parish': 'Carmelaram',\n",
       "  'Name': 'Alan Isaac Saji',\n",
       "  'Class': '11',\n",
       "  'Marks': '44'},\n",
       " {'Parish': 'Carmelaram', 'Name': 'Merin Jose', 'Class': '11', 'Marks': '44'},\n",
       " {'Parish': 'Carmelaram',\n",
       "  'Name': 'Nohal Chackson',\n",
       "  'Class': '11',\n",
       "  'Marks': '40'},\n",
       " {'Parish': 'Carmelaram',\n",
       "  'Name': 'Toby M Mathew',\n",
       "  'Class': '11',\n",
       "  'Marks': '41'}]"
      ]
     },
     "execution_count": 144,
     "metadata": {},
     "output_type": "execute_result"
    }
   ],
   "source": [
    "result_list"
   ]
  },
  {
   "cell_type": "code",
   "execution_count": 145,
   "metadata": {},
   "outputs": [
    {
     "data": {
      "text/html": [
       "<div>\n",
       "<style scoped>\n",
       "    .dataframe tbody tr th:only-of-type {\n",
       "        vertical-align: middle;\n",
       "    }\n",
       "\n",
       "    .dataframe tbody tr th {\n",
       "        vertical-align: top;\n",
       "    }\n",
       "\n",
       "    .dataframe thead th {\n",
       "        text-align: right;\n",
       "    }\n",
       "</style>\n",
       "<table border=\"1\" class=\"dataframe\">\n",
       "  <thead>\n",
       "    <tr style=\"text-align: right;\">\n",
       "      <th></th>\n",
       "      <th>Parish</th>\n",
       "      <th>Name</th>\n",
       "      <th>Class</th>\n",
       "      <th>Marks</th>\n",
       "    </tr>\n",
       "  </thead>\n",
       "  <tbody>\n",
       "    <tr>\n",
       "      <th>0</th>\n",
       "      <td>Carmelaram</td>\n",
       "      <td>Evaan Johnson</td>\n",
       "      <td>4</td>\n",
       "      <td>42</td>\n",
       "    </tr>\n",
       "    <tr>\n",
       "      <th>1</th>\n",
       "      <td>Carmelaram</td>\n",
       "      <td>Kevin S Shajy</td>\n",
       "      <td>4</td>\n",
       "      <td>50</td>\n",
       "    </tr>\n",
       "    <tr>\n",
       "      <th>2</th>\n",
       "      <td>Carmelaram</td>\n",
       "      <td>Anna Rose Johnson</td>\n",
       "      <td>5</td>\n",
       "      <td>44</td>\n",
       "    </tr>\n",
       "    <tr>\n",
       "      <th>3</th>\n",
       "      <td>Carmelaram</td>\n",
       "      <td>Albert M Mathew</td>\n",
       "      <td>6</td>\n",
       "      <td>46</td>\n",
       "    </tr>\n",
       "    <tr>\n",
       "      <th>4</th>\n",
       "      <td>Carmelaram</td>\n",
       "      <td>Neil S Thomas</td>\n",
       "      <td>6</td>\n",
       "      <td>47</td>\n",
       "    </tr>\n",
       "    <tr>\n",
       "      <th>5</th>\n",
       "      <td>Carmelaram</td>\n",
       "      <td>Rency K Rubin</td>\n",
       "      <td>6</td>\n",
       "      <td>40</td>\n",
       "    </tr>\n",
       "    <tr>\n",
       "      <th>6</th>\n",
       "      <td>Carmelaram</td>\n",
       "      <td>Jerin Jose</td>\n",
       "      <td>7</td>\n",
       "      <td>46</td>\n",
       "    </tr>\n",
       "    <tr>\n",
       "      <th>7</th>\n",
       "      <td>Carmelaram</td>\n",
       "      <td>Alina Merin Jose</td>\n",
       "      <td>9</td>\n",
       "      <td>39</td>\n",
       "    </tr>\n",
       "    <tr>\n",
       "      <th>8</th>\n",
       "      <td>Carmelaram</td>\n",
       "      <td>Alan Isaac Saji</td>\n",
       "      <td>11</td>\n",
       "      <td>44</td>\n",
       "    </tr>\n",
       "    <tr>\n",
       "      <th>9</th>\n",
       "      <td>Carmelaram</td>\n",
       "      <td>Merin Jose</td>\n",
       "      <td>11</td>\n",
       "      <td>44</td>\n",
       "    </tr>\n",
       "    <tr>\n",
       "      <th>10</th>\n",
       "      <td>Carmelaram</td>\n",
       "      <td>Nohal Chackson</td>\n",
       "      <td>11</td>\n",
       "      <td>40</td>\n",
       "    </tr>\n",
       "    <tr>\n",
       "      <th>11</th>\n",
       "      <td>Carmelaram</td>\n",
       "      <td>Toby M Mathew</td>\n",
       "      <td>11</td>\n",
       "      <td>41</td>\n",
       "    </tr>\n",
       "  </tbody>\n",
       "</table>\n",
       "</div>"
      ],
      "text/plain": [
       "        Parish               Name Class Marks\n",
       "0   Carmelaram      Evaan Johnson     4    42\n",
       "1   Carmelaram      Kevin S Shajy     4    50\n",
       "2   Carmelaram  Anna Rose Johnson     5    44\n",
       "3   Carmelaram    Albert M Mathew     6    46\n",
       "4   Carmelaram      Neil S Thomas     6    47\n",
       "5   Carmelaram      Rency K Rubin     6    40\n",
       "6   Carmelaram         Jerin Jose     7    46\n",
       "7   Carmelaram   Alina Merin Jose     9    39\n",
       "8   Carmelaram    Alan Isaac Saji    11    44\n",
       "9   Carmelaram         Merin Jose    11    44\n",
       "10  Carmelaram     Nohal Chackson    11    40\n",
       "11  Carmelaram      Toby M Mathew    11    41"
      ]
     },
     "execution_count": 145,
     "metadata": {},
     "output_type": "execute_result"
    }
   ],
   "source": [
    "import pandas as pd\n",
    "df = pd.DataFrame(result_list)\n",
    "df"
   ]
  },
  {
   "cell_type": "code",
   "execution_count": 130,
   "metadata": {},
   "outputs": [],
   "source": [
    "n = 1\n",
    "df.to_csv(f\"result_{n}.csv\", index=False)"
   ]
  },
  {
   "cell_type": "code",
   "execution_count": 124,
   "metadata": {},
   "outputs": [
    {
     "name": "stdout",
     "output_type": "stream",
     "text": [
      "None\n"
     ]
    }
   ],
   "source": [
    "string = \"    \"\n",
    "if string.strip():\n",
    "    print(string)\n",
    "else:\n",
    "    print(None)"
   ]
  },
  {
   "cell_type": "code",
   "execution_count": null,
   "metadata": {},
   "outputs": [],
   "source": []
  }
 ],
 "metadata": {
  "kernelspec": {
   "display_name": "Python 3",
   "language": "python",
   "name": "python3"
  },
  "language_info": {
   "codemirror_mode": {
    "name": "ipython",
    "version": 3
   },
   "file_extension": ".py",
   "mimetype": "text/x-python",
   "name": "python",
   "nbconvert_exporter": "python",
   "pygments_lexer": "ipython3",
   "version": "3.8.5"
  }
 },
 "nbformat": 4,
 "nbformat_minor": 4
}
